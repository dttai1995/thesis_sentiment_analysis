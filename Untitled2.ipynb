{
 "cells": [
  {
   "cell_type": "code",
   "execution_count": null,
   "id": "db665738",
   "metadata": {},
   "outputs": [],
   "source": []
  }
 ],
 "metadata": {
  "kernelspec": {
   "display_name": "PyCharm (handson-ml2)",
   "language": "python",
   "name": "pycharm-60cb1b0c"
  }
 },
 "nbformat": 4,
 "nbformat_minor": 5
}
